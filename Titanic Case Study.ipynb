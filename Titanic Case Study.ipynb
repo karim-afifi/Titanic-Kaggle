{
 "cells": [
  {
   "cell_type": "markdown",
   "metadata": {},
   "source": [
    "<center><h1>Titanic Use Case</h1></center><br>"
   ]
  },
  {
   "cell_type": "markdown",
   "metadata": {},
   "source": [
    "<img src=\"https://titanichistoricalsociety.org/wp-content/uploads/2017/09/titanic_historical_society_homepage_harley_crossley.jpg\" alt=\"TitanicShip\">"
   ]
  },
  {
   "cell_type": "markdown",
   "metadata": {},
   "source": [
    "The sinking of the RMS Titanic is one of the most infamous shipwrecks in history.  On April 15, 1912, during her maiden voyage, the Titanic sank after colliding with an iceberg, killing 1502 out of 2224 passengers and crew. This sensational tragedy shocked the international community and led to better safety regulations for ships.\n",
    "\n",
    "One of the reasons that the shipwreck led to such loss of life was that there were not enough lifeboats for the passengers and crew. Although there was some element of luck involved in surviving the sinking, some groups of people were more likely to survive than others, such as women, children, and the upper-class.\n",
    "\n",
    "In this challenge, we ask you to complete the analysis of what sorts of people were likely to survive. In particular, we ask you to apply the tools of machine learning to predict which passengers survived the tragedy."
   ]
  },
  {
   "cell_type": "markdown",
   "metadata": {},
   "source": [
    "This is a binary classification problem where we need to predict whether passengers are likely to survive or not.<br>\n",
    "We also need to understand what variables contribute the most to a passenger's survival."
   ]
  },
  {
   "cell_type": "markdown",
   "metadata": {},
   "source": [
    "<h2 style=\"color: green\">Acquisition</h2>"
   ]
  },
  {
   "cell_type": "markdown",
   "metadata": {},
   "source": [
    "Lets begin by loading our datasets and taking a look at them."
   ]
  },
  {
   "cell_type": "code",
   "execution_count": 1,
   "metadata": {},
   "outputs": [],
   "source": [
    "import pandas as pd\n",
    "import numpy as np\n",
    "import warnings\n",
    "warnings.filterwarnings(\"ignore\")\n",
    "\n",
    "passenger_train_path = \"/Users/karimafifi/Desktop/Titanic/train.csv\"\n",
    "passenger_test_path = \"/Users/karimafifi/Desktop/Titanic/test.csv\"\n",
    "passenger_test_target_path = \"/Users/karimafifi/Desktop/Titanic/gender_submission.csv\"\n",
    "passenger_train_df = pd.read_csv(passenger_train_path)\n",
    "passenger_test_df = pd.read_csv(passenger_test_path)\n",
    "passenger_test_target_df = pd.read_csv(passenger_test_target_path)"
   ]
  },
  {
   "cell_type": "code",
   "execution_count": 2,
   "metadata": {},
   "outputs": [
    {
     "name": "stdout",
     "output_type": "stream",
     "text": [
      "passenger_train_df shape: (891, 12)\n",
      "passenger_test_df shape: (418, 11)\n",
      "passenger_test_target_df shape: (418, 2)\n"
     ]
    }
   ],
   "source": [
    "print(\"passenger_train_df shape: {0}\".format(passenger_train_df.shape))\n",
    "print(\"passenger_test_df shape: {0}\".format(passenger_test_df.shape))\n",
    "print(\"passenger_test_target_df shape: {0}\".format(passenger_test_target_df.shape))"
   ]
  },
  {
   "cell_type": "code",
   "execution_count": 3,
   "metadata": {},
   "outputs": [
    {
     "data": {
      "text/html": [
       "<div>\n",
       "<style scoped>\n",
       "    .dataframe tbody tr th:only-of-type {\n",
       "        vertical-align: middle;\n",
       "    }\n",
       "\n",
       "    .dataframe tbody tr th {\n",
       "        vertical-align: top;\n",
       "    }\n",
       "\n",
       "    .dataframe thead th {\n",
       "        text-align: right;\n",
       "    }\n",
       "</style>\n",
       "<table border=\"1\" class=\"dataframe\">\n",
       "  <thead>\n",
       "    <tr style=\"text-align: right;\">\n",
       "      <th></th>\n",
       "      <th>PassengerId</th>\n",
       "      <th>Survived</th>\n",
       "      <th>Pclass</th>\n",
       "      <th>Name</th>\n",
       "      <th>Sex</th>\n",
       "      <th>Age</th>\n",
       "      <th>SibSp</th>\n",
       "      <th>Parch</th>\n",
       "      <th>Ticket</th>\n",
       "      <th>Fare</th>\n",
       "      <th>Cabin</th>\n",
       "      <th>Embarked</th>\n",
       "    </tr>\n",
       "  </thead>\n",
       "  <tbody>\n",
       "    <tr>\n",
       "      <th>0</th>\n",
       "      <td>1</td>\n",
       "      <td>0</td>\n",
       "      <td>3</td>\n",
       "      <td>Braund, Mr. Owen Harris</td>\n",
       "      <td>male</td>\n",
       "      <td>22.0</td>\n",
       "      <td>1</td>\n",
       "      <td>0</td>\n",
       "      <td>A/5 21171</td>\n",
       "      <td>7.2500</td>\n",
       "      <td>NaN</td>\n",
       "      <td>S</td>\n",
       "    </tr>\n",
       "    <tr>\n",
       "      <th>1</th>\n",
       "      <td>2</td>\n",
       "      <td>1</td>\n",
       "      <td>1</td>\n",
       "      <td>Cumings, Mrs. John Bradley (Florence Briggs Th...</td>\n",
       "      <td>female</td>\n",
       "      <td>38.0</td>\n",
       "      <td>1</td>\n",
       "      <td>0</td>\n",
       "      <td>PC 17599</td>\n",
       "      <td>71.2833</td>\n",
       "      <td>C85</td>\n",
       "      <td>C</td>\n",
       "    </tr>\n",
       "    <tr>\n",
       "      <th>2</th>\n",
       "      <td>3</td>\n",
       "      <td>1</td>\n",
       "      <td>3</td>\n",
       "      <td>Heikkinen, Miss. Laina</td>\n",
       "      <td>female</td>\n",
       "      <td>26.0</td>\n",
       "      <td>0</td>\n",
       "      <td>0</td>\n",
       "      <td>STON/O2. 3101282</td>\n",
       "      <td>7.9250</td>\n",
       "      <td>NaN</td>\n",
       "      <td>S</td>\n",
       "    </tr>\n",
       "    <tr>\n",
       "      <th>3</th>\n",
       "      <td>4</td>\n",
       "      <td>1</td>\n",
       "      <td>1</td>\n",
       "      <td>Futrelle, Mrs. Jacques Heath (Lily May Peel)</td>\n",
       "      <td>female</td>\n",
       "      <td>35.0</td>\n",
       "      <td>1</td>\n",
       "      <td>0</td>\n",
       "      <td>113803</td>\n",
       "      <td>53.1000</td>\n",
       "      <td>C123</td>\n",
       "      <td>S</td>\n",
       "    </tr>\n",
       "    <tr>\n",
       "      <th>4</th>\n",
       "      <td>5</td>\n",
       "      <td>0</td>\n",
       "      <td>3</td>\n",
       "      <td>Allen, Mr. William Henry</td>\n",
       "      <td>male</td>\n",
       "      <td>35.0</td>\n",
       "      <td>0</td>\n",
       "      <td>0</td>\n",
       "      <td>373450</td>\n",
       "      <td>8.0500</td>\n",
       "      <td>NaN</td>\n",
       "      <td>S</td>\n",
       "    </tr>\n",
       "  </tbody>\n",
       "</table>\n",
       "</div>"
      ],
      "text/plain": [
       "   PassengerId  Survived  Pclass  \\\n",
       "0            1         0       3   \n",
       "1            2         1       1   \n",
       "2            3         1       3   \n",
       "3            4         1       1   \n",
       "4            5         0       3   \n",
       "\n",
       "                                                Name     Sex   Age  SibSp  \\\n",
       "0                            Braund, Mr. Owen Harris    male  22.0      1   \n",
       "1  Cumings, Mrs. John Bradley (Florence Briggs Th...  female  38.0      1   \n",
       "2                             Heikkinen, Miss. Laina  female  26.0      0   \n",
       "3       Futrelle, Mrs. Jacques Heath (Lily May Peel)  female  35.0      1   \n",
       "4                           Allen, Mr. William Henry    male  35.0      0   \n",
       "\n",
       "   Parch            Ticket     Fare Cabin Embarked  \n",
       "0      0         A/5 21171   7.2500   NaN        S  \n",
       "1      0          PC 17599  71.2833   C85        C  \n",
       "2      0  STON/O2. 3101282   7.9250   NaN        S  \n",
       "3      0            113803  53.1000  C123        S  \n",
       "4      0            373450   8.0500   NaN        S  "
      ]
     },
     "execution_count": 3,
     "metadata": {},
     "output_type": "execute_result"
    }
   ],
   "source": [
    "passenger_train_df.head()"
   ]
  },
  {
   "cell_type": "code",
   "execution_count": 4,
   "metadata": {},
   "outputs": [
    {
     "data": {
      "text/html": [
       "<div>\n",
       "<style scoped>\n",
       "    .dataframe tbody tr th:only-of-type {\n",
       "        vertical-align: middle;\n",
       "    }\n",
       "\n",
       "    .dataframe tbody tr th {\n",
       "        vertical-align: top;\n",
       "    }\n",
       "\n",
       "    .dataframe thead th {\n",
       "        text-align: right;\n",
       "    }\n",
       "</style>\n",
       "<table border=\"1\" class=\"dataframe\">\n",
       "  <thead>\n",
       "    <tr style=\"text-align: right;\">\n",
       "      <th></th>\n",
       "      <th>PassengerId</th>\n",
       "      <th>Pclass</th>\n",
       "      <th>Name</th>\n",
       "      <th>Sex</th>\n",
       "      <th>Age</th>\n",
       "      <th>SibSp</th>\n",
       "      <th>Parch</th>\n",
       "      <th>Ticket</th>\n",
       "      <th>Fare</th>\n",
       "      <th>Cabin</th>\n",
       "      <th>Embarked</th>\n",
       "    </tr>\n",
       "  </thead>\n",
       "  <tbody>\n",
       "    <tr>\n",
       "      <th>0</th>\n",
       "      <td>892</td>\n",
       "      <td>3</td>\n",
       "      <td>Kelly, Mr. James</td>\n",
       "      <td>male</td>\n",
       "      <td>34.5</td>\n",
       "      <td>0</td>\n",
       "      <td>0</td>\n",
       "      <td>330911</td>\n",
       "      <td>7.8292</td>\n",
       "      <td>NaN</td>\n",
       "      <td>Q</td>\n",
       "    </tr>\n",
       "    <tr>\n",
       "      <th>1</th>\n",
       "      <td>893</td>\n",
       "      <td>3</td>\n",
       "      <td>Wilkes, Mrs. James (Ellen Needs)</td>\n",
       "      <td>female</td>\n",
       "      <td>47.0</td>\n",
       "      <td>1</td>\n",
       "      <td>0</td>\n",
       "      <td>363272</td>\n",
       "      <td>7.0000</td>\n",
       "      <td>NaN</td>\n",
       "      <td>S</td>\n",
       "    </tr>\n",
       "    <tr>\n",
       "      <th>2</th>\n",
       "      <td>894</td>\n",
       "      <td>2</td>\n",
       "      <td>Myles, Mr. Thomas Francis</td>\n",
       "      <td>male</td>\n",
       "      <td>62.0</td>\n",
       "      <td>0</td>\n",
       "      <td>0</td>\n",
       "      <td>240276</td>\n",
       "      <td>9.6875</td>\n",
       "      <td>NaN</td>\n",
       "      <td>Q</td>\n",
       "    </tr>\n",
       "    <tr>\n",
       "      <th>3</th>\n",
       "      <td>895</td>\n",
       "      <td>3</td>\n",
       "      <td>Wirz, Mr. Albert</td>\n",
       "      <td>male</td>\n",
       "      <td>27.0</td>\n",
       "      <td>0</td>\n",
       "      <td>0</td>\n",
       "      <td>315154</td>\n",
       "      <td>8.6625</td>\n",
       "      <td>NaN</td>\n",
       "      <td>S</td>\n",
       "    </tr>\n",
       "    <tr>\n",
       "      <th>4</th>\n",
       "      <td>896</td>\n",
       "      <td>3</td>\n",
       "      <td>Hirvonen, Mrs. Alexander (Helga E Lindqvist)</td>\n",
       "      <td>female</td>\n",
       "      <td>22.0</td>\n",
       "      <td>1</td>\n",
       "      <td>1</td>\n",
       "      <td>3101298</td>\n",
       "      <td>12.2875</td>\n",
       "      <td>NaN</td>\n",
       "      <td>S</td>\n",
       "    </tr>\n",
       "  </tbody>\n",
       "</table>\n",
       "</div>"
      ],
      "text/plain": [
       "   PassengerId  Pclass                                          Name     Sex  \\\n",
       "0          892       3                              Kelly, Mr. James    male   \n",
       "1          893       3              Wilkes, Mrs. James (Ellen Needs)  female   \n",
       "2          894       2                     Myles, Mr. Thomas Francis    male   \n",
       "3          895       3                              Wirz, Mr. Albert    male   \n",
       "4          896       3  Hirvonen, Mrs. Alexander (Helga E Lindqvist)  female   \n",
       "\n",
       "    Age  SibSp  Parch   Ticket     Fare Cabin Embarked  \n",
       "0  34.5      0      0   330911   7.8292   NaN        Q  \n",
       "1  47.0      1      0   363272   7.0000   NaN        S  \n",
       "2  62.0      0      0   240276   9.6875   NaN        Q  \n",
       "3  27.0      0      0   315154   8.6625   NaN        S  \n",
       "4  22.0      1      1  3101298  12.2875   NaN        S  "
      ]
     },
     "execution_count": 4,
     "metadata": {},
     "output_type": "execute_result"
    }
   ],
   "source": [
    "passenger_test_df.head()"
   ]
  },
  {
   "cell_type": "code",
   "execution_count": 5,
   "metadata": {},
   "outputs": [
    {
     "data": {
      "text/html": [
       "<div>\n",
       "<style scoped>\n",
       "    .dataframe tbody tr th:only-of-type {\n",
       "        vertical-align: middle;\n",
       "    }\n",
       "\n",
       "    .dataframe tbody tr th {\n",
       "        vertical-align: top;\n",
       "    }\n",
       "\n",
       "    .dataframe thead th {\n",
       "        text-align: right;\n",
       "    }\n",
       "</style>\n",
       "<table border=\"1\" class=\"dataframe\">\n",
       "  <thead>\n",
       "    <tr style=\"text-align: right;\">\n",
       "      <th></th>\n",
       "      <th>PassengerId</th>\n",
       "      <th>Survived</th>\n",
       "    </tr>\n",
       "  </thead>\n",
       "  <tbody>\n",
       "    <tr>\n",
       "      <th>0</th>\n",
       "      <td>892</td>\n",
       "      <td>0</td>\n",
       "    </tr>\n",
       "    <tr>\n",
       "      <th>1</th>\n",
       "      <td>893</td>\n",
       "      <td>1</td>\n",
       "    </tr>\n",
       "    <tr>\n",
       "      <th>2</th>\n",
       "      <td>894</td>\n",
       "      <td>0</td>\n",
       "    </tr>\n",
       "    <tr>\n",
       "      <th>3</th>\n",
       "      <td>895</td>\n",
       "      <td>0</td>\n",
       "    </tr>\n",
       "    <tr>\n",
       "      <th>4</th>\n",
       "      <td>896</td>\n",
       "      <td>1</td>\n",
       "    </tr>\n",
       "  </tbody>\n",
       "</table>\n",
       "</div>"
      ],
      "text/plain": [
       "   PassengerId  Survived\n",
       "0          892         0\n",
       "1          893         1\n",
       "2          894         0\n",
       "3          895         0\n",
       "4          896         1"
      ]
     },
     "execution_count": 5,
     "metadata": {},
     "output_type": "execute_result"
    }
   ],
   "source": [
    "passenger_test_target_df.head()"
   ]
  },
  {
   "cell_type": "markdown",
   "metadata": {},
   "source": [
    "<h2 style=\"color: green\">Exploration & Preparation</h2>"
   ]
  },
  {
   "cell_type": "markdown",
   "metadata": {},
   "source": [
    "The passenger_test_target_df is the target variable for our testset. We will merge the two dataframes for ease of use."
   ]
  },
  {
   "cell_type": "code",
   "execution_count": 6,
   "metadata": {},
   "outputs": [],
   "source": [
    "passenger_test_df = pd.merge(passenger_test_df, passenger_test_target_df, how='left', left_on=['PassengerId'], right_on=['PassengerId'])"
   ]
  },
  {
   "cell_type": "code",
   "execution_count": 7,
   "metadata": {},
   "outputs": [
    {
     "data": {
      "text/plain": [
       "(418, 12)"
      ]
     },
     "execution_count": 7,
     "metadata": {},
     "output_type": "execute_result"
    }
   ],
   "source": [
    "passenger_test_df.shape"
   ]
  },
  {
   "cell_type": "code",
   "execution_count": 8,
   "metadata": {},
   "outputs": [
    {
     "data": {
      "text/plain": [
       "(1309, 12)"
      ]
     },
     "execution_count": 8,
     "metadata": {},
     "output_type": "execute_result"
    }
   ],
   "source": [
    "passenger_df=pd.concat([passenger_train_df, passenger_test_df], axis=0)\n",
    "passenger_df.shape"
   ]
  },
  {
   "cell_type": "markdown",
   "metadata": {},
   "source": [
    "We need to set the PassengerId column as index."
   ]
  },
  {
   "cell_type": "code",
   "execution_count": 9,
   "metadata": {},
   "outputs": [],
   "source": [
    "passenger_df.set_index(['PassengerId'], drop=True, inplace=True)\n",
    "passenger_train_df.set_index(['PassengerId'], drop=True, inplace=True)\n",
    "passenger_test_df.set_index(['PassengerId'], drop=True, inplace=True)"
   ]
  },
  {
   "cell_type": "markdown",
   "metadata": {},
   "source": [
    "Now, we need to make sure that our variables have the right datatypes."
   ]
  },
  {
   "cell_type": "code",
   "execution_count": 10,
   "metadata": {},
   "outputs": [
    {
     "data": {
      "text/plain": [
       "Age         float64\n",
       "Cabin        object\n",
       "Embarked     object\n",
       "Fare        float64\n",
       "Name         object\n",
       "Parch         int64\n",
       "Pclass        int64\n",
       "Sex          object\n",
       "SibSp         int64\n",
       "Survived      int64\n",
       "Ticket       object\n",
       "dtype: object"
      ]
     },
     "execution_count": 10,
     "metadata": {},
     "output_type": "execute_result"
    }
   ],
   "source": [
    "passenger_df.dtypes"
   ]
  },
  {
   "cell_type": "code",
   "execution_count": 11,
   "metadata": {},
   "outputs": [
    {
     "data": {
      "text/plain": [
       "Age           98\n",
       "Cabin        186\n",
       "Embarked       3\n",
       "Fare         281\n",
       "Name        1307\n",
       "Parch          8\n",
       "Pclass         3\n",
       "Sex            2\n",
       "SibSp          7\n",
       "Survived       2\n",
       "Ticket       929\n",
       "dtype: int64"
      ]
     },
     "execution_count": 11,
     "metadata": {},
     "output_type": "execute_result"
    }
   ],
   "source": [
    "passenger_df.nunique()"
   ]
  },
  {
   "cell_type": "code",
   "execution_count": 12,
   "metadata": {},
   "outputs": [],
   "source": [
    "passenger_df['Survived'] = passenger_df['Survived'].astype('object')\n",
    "passenger_df['Pclass'] = passenger_df['Pclass'].astype('object')"
   ]
  },
  {
   "cell_type": "markdown",
   "metadata": {},
   "source": [
    "Lets extract the Title of each passenger from the Name var as it might be useful in our analysis. We will then drop the Name column as it has no use for us."
   ]
  },
  {
   "cell_type": "code",
   "execution_count": 13,
   "metadata": {},
   "outputs": [],
   "source": [
    "passenger_df['Title']=passenger_df['Name'].map(lambda x: x.split(',')[1].split('.')[0].strip())\n",
    "passenger_df.drop(['Name'], axis=1, inplace=True)"
   ]
  },
  {
   "cell_type": "markdown",
   "metadata": {},
   "source": [
    "Lets now identify any missing values in our dataset."
   ]
  },
  {
   "cell_type": "code",
   "execution_count": 14,
   "metadata": {},
   "outputs": [
    {
     "data": {
      "text/plain": [
       "True"
      ]
     },
     "execution_count": 14,
     "metadata": {},
     "output_type": "execute_result"
    }
   ],
   "source": [
    "passenger_df.isnull().values.any()"
   ]
  },
  {
   "cell_type": "code",
   "execution_count": 15,
   "metadata": {},
   "outputs": [
    {
     "name": "stdout",
     "output_type": "stream",
     "text": [
      "Age\n",
      "False    1046\n",
      "True      263\n",
      "Name: Age, dtype: int64\n",
      "\n",
      "Cabin\n",
      "True     1014\n",
      "False     295\n",
      "Name: Cabin, dtype: int64\n",
      "\n",
      "Embarked\n",
      "False    1307\n",
      "True        2\n",
      "Name: Embarked, dtype: int64\n",
      "\n",
      "Fare\n",
      "False    1308\n",
      "True        1\n",
      "Name: Fare, dtype: int64\n",
      "\n",
      "Parch\n",
      "False    1309\n",
      "Name: Parch, dtype: int64\n",
      "\n",
      "Pclass\n",
      "False    1309\n",
      "Name: Pclass, dtype: int64\n",
      "\n",
      "Sex\n",
      "False    1309\n",
      "Name: Sex, dtype: int64\n",
      "\n",
      "SibSp\n",
      "False    1309\n",
      "Name: SibSp, dtype: int64\n",
      "\n",
      "Survived\n",
      "False    1309\n",
      "Name: Survived, dtype: int64\n",
      "\n",
      "Ticket\n",
      "False    1309\n",
      "Name: Ticket, dtype: int64\n",
      "\n",
      "Title\n",
      "False    1309\n",
      "Name: Title, dtype: int64\n",
      "\n"
     ]
    }
   ],
   "source": [
    "passenger_df_na = passenger_df.isnull()\n",
    "passenger_df_na.name = \"Passengers Data NA\"\n",
    "for column in passenger_df_na.columns.values.tolist():\n",
    "    print(column)\n",
    "    print(passenger_df_na[column].value_counts())\n",
    "    print('')"
   ]
  },
  {
   "cell_type": "markdown",
   "metadata": {},
   "source": [
    "We have missing values in Age, Cabin, Embarked and Fare. We have more missing data in Cabin than available data and it is not possible to accurately predict the missing values for Cabin while having that precentage of missing values so, we are not going to include that column in our predictions."
   ]
  },
  {
   "cell_type": "code",
   "execution_count": 16,
   "metadata": {},
   "outputs": [],
   "source": [
    "passenger_df.drop(['Cabin'], axis=1, inplace=True)"
   ]
  },
  {
   "cell_type": "markdown",
   "metadata": {},
   "source": [
    "Lets replace the missing values of Embarked with the mode."
   ]
  },
  {
   "cell_type": "code",
   "execution_count": 17,
   "metadata": {},
   "outputs": [],
   "source": [
    "embarked_mode=passenger_df['Embarked'].mode()\n",
    "passenger_df['Embarked'].replace(np.nan, embarked_mode[0], inplace=True)"
   ]
  },
  {
   "cell_type": "markdown",
   "metadata": {},
   "source": [
    "We will replace the missing values for Fare with the median according to the Pclass of passengers. We will use the median since the mean will get pulled by outliers, if they exist. A passenger with a higher ticket class, is likely to pay more."
   ]
  },
  {
   "cell_type": "code",
   "execution_count": 18,
   "metadata": {},
   "outputs": [],
   "source": [
    "pclasses=passenger_df['Pclass'].unique()\n",
    "class_medians = dict()\n",
    "for pclass in pclasses:\n",
    "    median=passenger_df[passenger_df['Pclass']==pclass]['Fare'].median()\n",
    "    class_medians[pclass]=median\n",
    "\n",
    "for index, row in passenger_df.iterrows():\n",
    "    if np.isnan(row['Fare']):\n",
    "        passenger_df.at[index, 'Fare']=class_medians[row['Pclass']]"
   ]
  },
  {
   "cell_type": "markdown",
   "metadata": {},
   "source": [
    "We will now replace the missing values for Age with the median value according to the Title of passengers. Passengers with a Mrs Title are more likely to be older than passengers with a Miss Title."
   ]
  },
  {
   "cell_type": "code",
   "execution_count": 19,
   "metadata": {},
   "outputs": [],
   "source": [
    "titles=passenger_df['Title'].unique()\n",
    "title_medians = dict()\n",
    "for title in titles:\n",
    "    median=passenger_df[passenger_df['Title']==title]['Age'].median()\n",
    "    title_medians[title]=median\n",
    "\n",
    "for index, row in passenger_df.iterrows():\n",
    "    if np.isnan(row['Age']):\n",
    "        passenger_df.at[index, 'Age']=title_medians[row['Title']]"
   ]
  },
  {
   "cell_type": "markdown",
   "metadata": {},
   "source": [
    "Lets make use of the Ticket column by extracting the prefix of each ticket. Passengers with the same ticket prefix might have faced the same conditions when the liner was drowning."
   ]
  },
  {
   "cell_type": "code",
   "execution_count": 20,
   "metadata": {},
   "outputs": [],
   "source": [
    "def get_ticket_prefix(ticket):\n",
    "    ticket = ticket.replace('.', '')\n",
    "    ticket = ticket.replace('/', '')\n",
    "    ticket = ticket.split()\n",
    "    ticket = map(lambda t : t.strip(), ticket)\n",
    "    ticket = list(filter(lambda t : not t.isdigit(), ticket))\n",
    "    if len(ticket) > 0:\n",
    "        return ticket[0]\n",
    "    else: \n",
    "        return 'MISSING'\n",
    "\n",
    "passenger_df['Ticket'] = passenger_df['Ticket'].map(get_ticket_prefix)"
   ]
  },
  {
   "cell_type": "markdown",
   "metadata": {},
   "source": [
    "We will create a new feature to entail the size of each member's family on board. The size of the family will include the passenger thyself. After creating the new feature, we will create another feature that bins the size of each member's family into a singleton or a small family or a large family on board. Members of larger families are less likely to survive as they will probably spend more time checking on each other and making sure that each family member is fine."
   ]
  },
  {
   "cell_type": "code",
   "execution_count": 21,
   "metadata": {},
   "outputs": [],
   "source": [
    "passenger_df['FamilySize'] = passenger_df['SibSp'] + passenger_df['Parch'] + 1\n",
    "passenger_df['FamilySizeCategory'] = passenger_df['FamilySize'].map(lambda size: 'Singleton' if size==1 else('SmallFamily' if 2<=size<=4 else('LargeFamily' if 5<=size else 0)))\n"
   ]
  },
  {
   "cell_type": "markdown",
   "metadata": {},
   "source": [
    "Since we have done dealing with missing values and creating new features, we will now determine the features with a significant effect on the target variable using ANOVA and Chi-squared tests."
   ]
  },
  {
   "cell_type": "code",
   "execution_count": 22,
   "metadata": {},
   "outputs": [
    {
     "name": "stdout",
     "output_type": "stream",
     "text": [
      "ANOVA results for Age: F-score=2.8491291441408553, P-value=0.09166202195520894\n",
      "Chi-Squared results for Embarked: Chi-square value=24.19377595554332, P-value=5.5768415194448465e-06\n",
      "ANOVA results for Fare: F-score=75.60045961211392, P-value=1.023416341843774e-17\n",
      "ANOVA results for Parch: F-score=15.69159420522941, P-value=7.857864292721364e-05\n",
      "Chi-Squared results for Pclass: Chi-square value=91.72367559290262, P-value=1.2090852275863937e-20\n",
      "Chi-Squared results for Sex: Chi-square value=617.3133522952658, P-value=2.871410444001617e-136\n",
      "ANOVA results for SibSp: F-score=0.007343501174659599, P-value=0.9317226134341012\n",
      "Chi-Squared results for Ticket: Chi-square value=73.19081289921012, P-value=0.00024496176438461564\n",
      "Chi-Squared results for Title: Chi-square value=646.2675706380724, P-value=2.2290520272561057e-126\n",
      "ANOVA results for FamilySize: F-score=4.89604844293584, P-value=0.027090526663826407\n",
      "Chi-Squared results for FamilySizeCategory: Chi-square value=95.43687481029842, P-value=1.888625937981838e-21\n"
     ]
    }
   ],
   "source": [
    "from scipy.stats import f_oneway\n",
    "from scipy.stats import chi2_contingency\n",
    "\n",
    "chi_f_values=[]\n",
    "variables=[]\n",
    "\n",
    "for column in passenger_df.columns.values.tolist():\n",
    "    if column != 'Survived':\n",
    "        if passenger_df[column].dtype=='object':\n",
    "            ct1=pd.crosstab(passenger_df[column], passenger_df['Survived'])\n",
    "            colsum=ct1.sum(axis=0)\n",
    "            colpct=ct1/colsum\n",
    "            cs1=chi2_contingency(ct1)\n",
    "            variables.append(column)\n",
    "            chi_f_values.append(cs1[0])\n",
    "            print(\"Chi-Squared results for {0}: Chi-square value={1}, P-value={2}\".format(column, cs1[0], cs1[1]))\n",
    "        else:\n",
    "            grouped_test=passenger_df[['Survived', column]].groupby(['Survived'])\n",
    "            f_val, p_val = f_oneway(grouped_test.get_group(0)[column], grouped_test.get_group(1)[column])\n",
    "            variables.append(column)\n",
    "            chi_f_values.append(f_val)\n",
    "            print(\"ANOVA results for {0}: F-score={1}, P-value={2}\".format(column, f_val, p_val))"
   ]
  },
  {
   "cell_type": "code",
   "execution_count": 23,
   "metadata": {},
   "outputs": [
    {
     "data": {
      "text/plain": [
       "<matplotlib.axes._subplots.AxesSubplot at 0x1a18032f28>"
      ]
     },
     "execution_count": 23,
     "metadata": {},
     "output_type": "execute_result"
    },
    {
     "data": {
      "image/png": "[encoded data removed]",
      "text/plain": [
       "<Figure size 1800x1800 with 1 Axes>"
      ]
     },
     "metadata": {},
     "output_type": "display_data"
    }
   ],
   "source": [
    "import matplotlib.pyplot as plt\n",
    "import seaborn as sns\n",
    "%matplotlib inline\n",
    "\n",
    "features=pd.DataFrame()\n",
    "features['feature'] = variables\n",
    "features['importance'] = chi_f_values\n",
    "features.sort_values(by=['importance'], ascending=True, inplace=True)\n",
    "features.set_index('feature', inplace=True)\n",
    "\n",
    "features.plot(kind='barh', figsize=(25, 25))"
   ]
  },
  {
   "cell_type": "markdown",
   "metadata": {},
   "source": [
    "As we can see, Title, Sex, Pclass, FamilySizeCategory, Fare, Ticket and Embarked are important features to consider."
   ]
  },
  {
   "cell_type": "markdown",
   "metadata": {},
   "source": [
    "Lets now confirm our findings and derive more insights."
   ]
  },
  {
   "cell_type": "code",
   "execution_count": 24,
   "metadata": {},
   "outputs": [
    {
     "data": {
      "image/png": "[encoded data removed]",
      "text/plain": [
       "<Figure size 1224x1296 with 11 Axes>"
      ]
     },
     "metadata": {},
     "output_type": "display_data"
    }
   ],
   "source": [
    "fig = plt.figure(figsize=(17,18))\n",
    "i = 1\n",
    "for column in passenger_df.columns.values.tolist():\n",
    "    if column != 'Survived':\n",
    "        axes = fig.add_subplot(4, 3, i)\n",
    "        if column == 'Age':\n",
    "            age_binned=pd.cut(passenger_df['Age'], 10)\n",
    "            age_binned.sort_values(inplace=True)\n",
    "            table= pd.crosstab(age_binned, passenger_df['Survived'])\n",
    "        elif column == 'Fare':\n",
    "            fare_binned=pd.cut(passenger_df['Fare'], 10)\n",
    "            fare_binned.sort_values(inplace=True)\n",
    "            table= pd.crosstab(fare_binned, passenger_df['Survived'])\n",
    "        else:\n",
    "            table= pd.crosstab(passenger_df[column], passenger_df['Survived'])\n",
    "        plt.subplots_adjust(wspace = 0.3, hspace = 1.0)\n",
    "        plt.xlabel(column, fontsize=16)\n",
    "        plt.grid()\n",
    "        table.div(table.sum(1).astype(float), axis=0).plot(kind='bar', stacked=True, ax=axes)\n",
    "        i+=1    "
   ]
  },
  {
   "cell_type": "markdown",
   "metadata": {},
   "source": [
    "Passengers with a higher ticket class, had a higher survival rate.<br>\n",
    "Females had a much higher survival rate. This is because of other Passengers' efforts to save the females.<br>\n",
    "Young children had a little higher survival rate. This is probably because of other Passengers' efforts to save the children. The same thing applies for the eldery which had a high survival rate.<br>\n",
    "Passengers Embarked from 'Cherbourg' had the highest survival rate, followed by 'Queenstown', then 'Southampton'.<br>\n",
    "Passengers with female titles followed by upper-class titles, had a higher survival rate.<br>\n",
    "Passengers with a small family on board had the highest survival rate, followed by Singleton, followed by passengers with a large family on board."
   ]
  },
  {
   "cell_type": "markdown",
   "metadata": {},
   "source": [
    "We need to normalize our numerical values using z-score before going further."
   ]
  },
  {
   "cell_type": "code",
   "execution_count": 25,
   "metadata": {},
   "outputs": [],
   "source": [
    "for column in passenger_df.columns.values.tolist():\n",
    "    if passenger_df[column].dtype != 'object':\n",
    "        passenger_df[column]=(passenger_df[column] - passenger_df[column].mean())/passenger_df[column].std(ddof=0)"
   ]
  },
  {
   "cell_type": "markdown",
   "metadata": {},
   "source": [
    "We will now create dummy variables for our categorical variables"
   ]
  },
  {
   "cell_type": "code",
   "execution_count": 26,
   "metadata": {},
   "outputs": [],
   "source": [
    "for column in passenger_df.columns.values.tolist():\n",
    "    if column != 'Survived':\n",
    "        if passenger_df[column].dtype=='object':\n",
    "            dummies=pd.get_dummies(passenger_df[column], prefix=column)\n",
    "            passenger_df = pd.concat([passenger_df, dummies], axis=1)\n",
    "            passenger_df.drop(column, axis=1, inplace=True)"
   ]
  },
  {
   "cell_type": "markdown",
   "metadata": {},
   "source": [
    "Lets separate our features and our target variable"
   ]
  },
  {
   "cell_type": "code",
   "execution_count": 27,
   "metadata": {},
   "outputs": [],
   "source": [
    "passenger_df_xs = passenger_df.drop('Survived', axis=1)\n",
    "passenger_df_y = pd.DataFrame(passenger_df['Survived'])"
   ]
  },
  {
   "cell_type": "markdown",
   "metadata": {},
   "source": [
    "Lets take a look at the count of our class labels."
   ]
  },
  {
   "cell_type": "code",
   "execution_count": 28,
   "metadata": {},
   "outputs": [
    {
     "data": {
      "text/plain": [
       "<matplotlib.axes._subplots.AxesSubplot at 0x10a809208>"
      ]
     },
     "execution_count": 28,
     "metadata": {},
     "output_type": "execute_result"
    },
    {
     "data": {
      "image/png": "[encoded data removed]",
      "text/plain": [
       "<Figure size 432x288 with 1 Axes>"
      ]
     },
     "metadata": {},
     "output_type": "display_data"
    }
   ],
   "source": [
    "sns.countplot(passenger_df['Survived'])"
   ]
  },
  {
   "cell_type": "markdown",
   "metadata": {},
   "source": [
    "The data is biased towards the class label '0' but we will leave it as it is as we have a small number of observations."
   ]
  },
  {
   "cell_type": "markdown",
   "metadata": {},
   "source": [
    "At last, lets get our test set back after finishing preparation."
   ]
  },
  {
   "cell_type": "code",
   "execution_count": 29,
   "metadata": {},
   "outputs": [],
   "source": [
    "passenger_train_df_xs=passenger_df_xs.loc()[list(passenger_train_df.index.values), :]\n",
    "passenger_train_df_y=passenger_df_y.loc()[list(passenger_train_df.index.values), :]\n",
    "passenger_test_df_xs=passenger_df_xs.loc()[list(passenger_test_df.index.values), :]\n",
    "passenger_test_df_y=passenger_df_y.loc()[list(passenger_test_df.index.values), :]"
   ]
  },
  {
   "cell_type": "markdown",
   "metadata": {},
   "source": [
    "<h2 style=\"color: green\">Modeling</h2>"
   ]
  },
  {
   "cell_type": "code",
   "execution_count": 30,
   "metadata": {},
   "outputs": [],
   "source": [
    "from sklearn.ensemble import RandomForestClassifier\n",
    "from sklearn.svm import SVC\n",
    "from sklearn.ensemble.gradient_boosting import GradientBoostingClassifier\n",
    "from sklearn.feature_selection import SelectKBest\n",
    "from sklearn.model_selection import StratifiedKFold\n",
    "from sklearn.model_selection import GridSearchCV\n",
    "from sklearn.model_selection import cross_val_score\n",
    "from sklearn.feature_selection import SelectFromModel\n",
    "from sklearn.linear_model import LogisticRegression, LogisticRegressionCV"
   ]
  },
  {
   "cell_type": "markdown",
   "metadata": {},
   "source": [
    "Lets use XGBOOST to get only the important features after creating the dummy variables to include in our final model. We will use only the training set as using the test set will be considered cheating ;)"
   ]
  },
  {
   "cell_type": "code",
   "execution_count": 36,
   "metadata": {},
   "outputs": [
    {
     "data": {
      "text/plain": [
       "<matplotlib.axes._subplots.AxesSubplot at 0x1a2035d438>"
      ]
     },
     "execution_count": 36,
     "metadata": {},
     "output_type": "execute_result"
    },
    {
     "data": {
      "image/png": "[encoded data removed]",
      "text/plain": [
       "<Figure size 1800x1800 with 1 Axes>"
      ]
     },
     "metadata": {},
     "output_type": "display_data"
    }
   ],
   "source": [
    "warnings.filterwarnings(\"ignore\")\n",
    "\n",
    "xgboost = GradientBoostingClassifier(n_estimators=200, max_features='sqrt')\n",
    "xgboost_model = xgboost.fit(passenger_train_df_xs, passenger_train_df_y.astype('int'))\n",
    "features = pd.DataFrame()\n",
    "features['feature'] = passenger_train_df_xs.columns\n",
    "features['importance'] = xgboost_model.feature_importances_\n",
    "features.sort_values(by=['importance'], ascending=True, inplace=True)\n",
    "features.set_index('feature', inplace=True)\n",
    "features.plot(kind='barh', figsize=(25, 25))"
   ]
  },
  {
   "cell_type": "code",
   "execution_count": 37,
   "metadata": {},
   "outputs": [
    {
     "name": "stdout",
     "output_type": "stream",
     "text": [
      "(891, 71)\n",
      "(418, 71)\n",
      "(891, 20)\n",
      "(418, 20)\n"
     ]
    }
   ],
   "source": [
    "print(passenger_train_df_xs.shape)\n",
    "print(passenger_test_df_xs.shape)\n",
    "model = SelectFromModel(xgboost_model, prefit=True)\n",
    "train_reduced_xs = pd.DataFrame(model.transform(passenger_train_df_xs))\n",
    "print(train_reduced_xs.shape)\n",
    "test_reduced_xs=pd.DataFrame(model.transform(passenger_test_df_xs))\n",
    "print(test_reduced_xs.shape)"
   ]
  },
  {
   "cell_type": "markdown",
   "metadata": {},
   "source": [
    "We will test multiple ML algorithms using cross validation and determine the one with the best classification accuracy even though, the target class labels are biased but classification accuracy is the metric used on the leaderboard on Kaggle."
   ]
  },
  {
   "cell_type": "code",
   "execution_count": 38,
   "metadata": {},
   "outputs": [],
   "source": [
    "log_reg = LogisticRegression()\n",
    "log_reg_cv = LogisticRegressionCV()\n",
    "svm_rbf_cv = SVC(kernel='rbf', max_iter=200)\n",
    "svm_linear_cv = SVC(kernel='linear', max_iter=200)\n",
    "rf = RandomForestClassifier(n_estimators=500, max_features='sqrt')\n",
    "g_boost = GradientBoostingClassifier(n_estimators=500, max_features='sqrt')\n",
    "\n",
    "models = [log_reg, log_reg_cv, svm_rbf_cv, svm_linear_cv, rf, g_boost]"
   ]
  },
  {
   "cell_type": "code",
   "execution_count": 39,
   "metadata": {},
   "outputs": [
    {
     "name": "stdout",
     "output_type": "stream",
     "text": [
      "CV score of <class 'sklearn.linear_model.logistic.LogisticRegression'> = 0.8227023885137423\n",
      "-----------\n",
      "CV score of <class 'sklearn.linear_model.logistic.LogisticRegressionCV'> = 0.8249495795249784\n",
      "-----------\n",
      "CV score of <class 'sklearn.svm.classes.SVC'> = 0.831672392276438\n",
      "-----------\n",
      "CV score of <class 'sklearn.svm.classes.SVC'> = 0.7553730476805518\n",
      "-----------\n",
      "CV score of <class 'sklearn.ensemble.forest.RandomForestClassifier'> = 0.8126084346087135\n",
      "-----------\n",
      "CV score of <class 'sklearn.ensemble.gradient_boosting.GradientBoostingClassifier'> = 0.8328399272711025\n",
      "-----------\n"
     ]
    }
   ],
   "source": [
    "warnings.filterwarnings(\"ignore\")\n",
    "\n",
    "for model in models:\n",
    "    xval = cross_val_score(model, passenger_train_df_xs, passenger_train_df_y.astype('int'), cv = 5, scoring='accuracy')\n",
    "    print('CV score of {0} = {1}'.format(model.__class__, np.mean(xval)))\n",
    "    print('-----------')"
   ]
  },
  {
   "cell_type": "markdown",
   "metadata": {},
   "source": [
    "The classification accuracy of some of our models are very close. We are going to use GradientBoostingClassifier as it has way too parameters to tune and it has a better chance to give a better classification accuracy score. Lets use GridSearchCV to tune our parameters."
   ]
  },
  {
   "cell_type": "code",
   "execution_count": 40,
   "metadata": {},
   "outputs": [
    {
     "name": "stdout",
     "output_type": "stream",
     "text": [
      "Optimal score: 0.8428731762065096\n",
      "Optimal parameters: {'max_depth': 4, 'max_features': 'auto', 'min_samples_leaf': 6, 'min_samples_split': 10, 'n_estimators': 100}\n"
     ]
    }
   ],
   "source": [
    "param_grid = {'n_estimators': [100, 300, 400, 500], 'max_depth' : [4, 6, 8, 10], 'max_features': ['sqrt', 'auto', 'log2'],\n",
    "                 'min_samples_split': [2, 3, 6, 10], 'min_samples_leaf': [1, 3, 6, 10]}\n",
    "\n",
    "xgboost = GradientBoostingClassifier()\n",
    "cross_validation = StratifiedKFold(n_splits=5)\n",
    "grid_search = GridSearchCV(xgboost, param_grid=param_grid, scoring='accuracy', cv=cross_validation, n_jobs=-1)\n",
    "\n",
    "xgboost_model = grid_search.fit(passenger_train_df_xs, passenger_train_df_y.astype('int'))\n",
    "xgboost_parameters = grid_search.best_params_\n",
    "\n",
    "print('Optimal score: {0}'.format(grid_search.best_score_))\n",
    "print('Optimal parameters: {0}'.format(grid_search.best_params_))"
   ]
  },
  {
   "cell_type": "code",
   "execution_count": 41,
   "metadata": {},
   "outputs": [],
   "source": [
    "xgboost_model = GradientBoostingClassifier(**xgboost_parameters)\n",
    "xgboost_model.fit(passenger_train_df_xs, passenger_train_df_y.astype('int'))\n",
    "prediction=xgboost_model.predict(passenger_test_df_xs)\n",
    "out_df=pd.DataFrame(data={'PassengerId': passenger_test_df_xs.index.values, 'Survived': prediction})\n",
    "out_df.set_index(['PassengerId'], drop=True, inplace=True)\n",
    "out_df.to_csv('titanic_predictions.csv')"
   ]
  }
 ],
 "metadata": {
  "kernelspec": {
   "display_name": "Python 3",
   "language": "python",
   "name": "python3"
  },
  "language_info": {
   "codemirror_mode": {
    "name": "ipython",
    "version": 3
   },
   "file_extension": ".py",
   "mimetype": "text/x-python",
   "name": "python",
   "nbconvert_exporter": "python",
   "pygments_lexer": "ipython3",
   "version": "3.6.5"
  }
 },
 "nbformat": 4,
 "nbformat_minor": 2
}
